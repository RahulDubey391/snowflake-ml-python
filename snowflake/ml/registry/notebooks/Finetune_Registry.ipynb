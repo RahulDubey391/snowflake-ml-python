{
 "cells": [
  {
   "cell_type": "markdown",
   "id": "a91e831d-5778-4321-87c2-2a4f3550b189",
   "metadata": {},
   "source": [
    "# LLM Pretrain or Finetune Model Workflow for Model Registry"
   ]
  },
  {
   "cell_type": "markdown",
   "id": "024a8eb0-8306-4220-b25d-209aac880586",
   "metadata": {},
   "source": [
    "## Setup"
   ]
  },
  {
   "cell_type": "markdown",
   "id": "fa0e355f",
   "metadata": {},
   "source": [
    "* Create a python3.8 conda env\n",
    "`conda create --name {your_preferred_env_name} python=3.8`\n",
    "* And, then install the latest snowparkML python package(minimum 1.0.12)"
   ]
  },
  {
   "cell_type": "code",
   "execution_count": null,
   "id": "1ed66db9",
   "metadata": {
    "scrolled": true
   },
   "outputs": [],
   "source": [
    "!pip install --force-reinstall --no-deps /home/ubuntu/snowml/bazel-bin/snowflake/ml/snowflake_ml_python-1.0.12-py3-none-any.whl"
   ]
  },
  {
   "cell_type": "code",
   "execution_count": 2,
   "id": "292e9f48",
   "metadata": {},
   "outputs": [
    {
     "data": {
      "text/html": [
       "<style>.container { width:100% !important; }</style>"
      ],
      "text/plain": [
       "<IPython.core.display.HTML object>"
      ]
     },
     "metadata": {},
     "output_type": "display_data"
    }
   ],
   "source": [
    "from IPython.display import display, HTML\n",
    "display(HTML(\"<style>.container { width:100% !important; }</style>\"))\n",
    "\n",
    "%load_ext autoreload\n",
    "%autoreload 2\n"
   ]
  },
  {
   "cell_type": "code",
   "execution_count": 23,
   "id": "7585077b",
   "metadata": {},
   "outputs": [],
   "source": [
    "from snowflake.snowpark import Session\n",
    "from snowflake.ml.utils.connection_params import SnowflakeLoginOptions\n",
    "import pandas as pd\n",
    "from snowflake.ml.model.models import llm\n",
    "from snowflake.ml.registry import model_registry\n",
    "from IPython.display import JSON"
   ]
  },
  {
   "cell_type": "markdown",
   "id": "7a0294ba",
   "metadata": {},
   "source": [
    "Connection config available at ~/.snowsql/config"
   ]
  },
  {
   "cell_type": "code",
   "execution_count": 5,
   "id": "f876232e",
   "metadata": {},
   "outputs": [
    {
     "name": "stderr",
     "output_type": "stream",
     "text": [
      "SnowflakeLoginOptions() is in private preview since 0.2.0. Do not use it in production. \n"
     ]
    }
   ],
   "source": [
    "session = Session.builder.configs(SnowflakeLoginOptions('connections.demo')).create()"
   ]
  },
  {
   "cell_type": "code",
   "execution_count": null,
   "id": "c6aee8c9",
   "metadata": {
    "scrolled": true
   },
   "outputs": [],
   "source": [
    "session.get_current_database(), session.get_current_schema()"
   ]
  },
  {
   "cell_type": "code",
   "execution_count": 9,
   "id": "72c16c14",
   "metadata": {},
   "outputs": [],
   "source": [
    "REGISTRY_DATABASE_NAME = \"HALU_MR\"\n",
    "REGISTRY_SCHEMA_NAME = \"PUBLIC\""
   ]
  },
  {
   "cell_type": "code",
   "execution_count": 10,
   "id": "c420807b",
   "metadata": {},
   "outputs": [
    {
     "name": "stderr",
     "output_type": "stream",
     "text": [
      "WARNING:snowflake.snowpark:create_model_registry() is in private preview since 0.2.0. Do not use it in production. \n",
      "WARNING:absl:The database HALU_MR already exists. Skipping creation.\n",
      "WARNING:absl:The schema HALU_MR.PUBLIC already exists. Skipping creation.\n"
     ]
    }
   ],
   "source": [
    "\n",
    "model_registry.create_model_registry(\n",
    "    session=session, database_name=REGISTRY_DATABASE_NAME, schema_name=REGISTRY_SCHEMA_NAME\n",
    ")\n",
    "registry = model_registry.ModelRegistry(\n",
    "    session=session, database_name=REGISTRY_DATABASE_NAME, schema_name=REGISTRY_SCHEMA_NAME\n",
    ")"
   ]
  },
  {
   "cell_type": "markdown",
   "id": "7d104673-c6fa-4eff-bec1-230c1d783881",
   "metadata": {},
   "source": [
    "# Registry opertions"
   ]
  },
  {
   "cell_type": "markdown",
   "id": "6956d692-92c2-474f-9b5b-d69c2ef4e364",
   "metadata": {},
   "source": [
    "## Define the model"
   ]
  },
  {
   "cell_type": "markdown",
   "id": "83ca550b-971d-46ba-a332-8218bc75ae00",
   "metadata": {},
   "source": [
    "### Case1: Local Lora Finetune Weights\n",
    "Lora finetune weights by huggingface PEFT library is supported."
   ]
  },
  {
   "cell_type": "code",
   "execution_count": 14,
   "id": "3b1d6e92-cb09-4576-a534-18522a040390",
   "metadata": {},
   "outputs": [
    {
     "name": "stdout",
     "output_type": "stream",
     "text": [
      "adapter_config.json  adapter_model.bin\thalu_peft_ft  training_args.bin\n"
     ]
    }
   ],
   "source": [
    "!ls /home/ubuntu/projects/test_ft_weights"
   ]
  },
  {
   "cell_type": "code",
   "execution_count": 36,
   "id": "18323af6",
   "metadata": {},
   "outputs": [],
   "source": [
    "options = llm.LLMOptions(\n",
    "    token=\"...\",\n",
    "    max_batch_size=100,\n",
    ")\n",
    "model = llm.LLM(\n",
    "    model_id_or_path=\"/home/ubuntu/projects/test_ft_weights\",\n",
    "    options=options\n",
    ")"
   ]
  },
  {
   "cell_type": "markdown",
   "id": "01883785-576f-435e-a5cb-dfd3243b75c6",
   "metadata": {},
   "source": [
    "### Case2: Pretrain models"
   ]
  },
  {
   "cell_type": "code",
   "execution_count": 17,
   "id": "b55dd0d5-b76e-48c8-bd89-f1f2ebe559de",
   "metadata": {},
   "outputs": [],
   "source": [
    "options = llm.LLMOptions(\n",
    "    token=\"...\",\n",
    "    max_batch_size=100,  \n",
    ")\n",
    "model = llm.LLM(\n",
    "    model_id_or_path=\"meta-llama/Llama-2-7b-chat-hf\",\n",
    "    options=options\n",
    ")"
   ]
  },
  {
   "cell_type": "markdown",
   "id": "23dcb9cf-975d-49b6-90c7-119969d94f9d",
   "metadata": {},
   "source": [
    "## Log model"
   ]
  },
  {
   "cell_type": "code",
   "execution_count": 37,
   "id": "dac3fc56",
   "metadata": {
    "scrolled": true
   },
   "outputs": [],
   "source": [
    "svc_model = registry.log_model(\n",
    "    model_name='llm_notebook_ft',\n",
    "    model_version='v1',\n",
    "    model=model,\n",
    "    options={\"embed_local_ml_library\": True},\n",
    ")"
   ]
  },
  {
   "cell_type": "markdown",
   "id": "c725ec11-8a30-467f-813f-261971ec65fd",
   "metadata": {},
   "source": [
    "## Deploy"
   ]
  },
  {
   "cell_type": "code",
   "execution_count": 45,
   "id": "b17b1fbb",
   "metadata": {
    "scrolled": true
   },
   "outputs": [
    {
     "name": "stderr",
     "output_type": "stream",
     "text": [
      "/opt/conda/envs/pytorch/lib/python3.10/site-packages/snowflake/ml/model/_packager/model_env/model_env.py:353: UserWarning: Found dependencies specified as pip requirements. This may prevent model deploying to Snowflake Warehouse.\n",
      "  warnings.warn(\n",
      "WARNING:snowflake.ml.model._deploy_client.snowservice.deploy:Debug model is enabled, deployment artifacts will be available in /tmp/tmpyp2rz595\n",
      "WARNING:snowflake.ml.model._deploy_client.snowservice.deploy:Similar environment detected. Using existing image sfengineering-servicesnow.registry.snowflakecomputing.com/halu_ft_db/public/haul_repo/c125a958091b70d924d69b379b55ee20cbd8157e:latest to skip image build. To disable this feature, set 'force_image_build=True' in deployment options\n",
      "WARNING:snowflake.ml.model._deploy_client.utils.snowservice_client:Best-effort log streaming from SPCS will be enabled when python logging level is set to INFO.Alternatively, you can also query the logs by running the query 'CALL SYSTEM$GET_SERVICE_LOGS('HALU_MR.PUBLIC.service_1a0ec2427e5511eea17e06f9498c0da3', '0', 'inference-server')'\n"
     ]
    }
   ],
   "source": [
    "from snowflake.ml.model import deploy_platforms\n",
    "\n",
    "deployment_options = {\n",
    "    \"compute_pool\": 'BUILD_2023_POOL',\n",
    "    \"num_gpus\": 1,\n",
    "    \"image_repo\": 'sfengineering-servicesnow.registry.snowflakecomputing.com/halu_ft_db/public/haul_repo',\n",
    "    \"enable_remote_image_build\": True,\n",
    "    \"debug_mode\": True,\n",
    "}\n",
    "        \n",
    "deploy_info = svc_model.deploy(\n",
    "    deployment_name=\"llm_notebook_ft_1\",\n",
    "    platform=deploy_platforms.TargetPlatform.SNOWPARK_CONTAINER_SERVICES,\n",
    "    permanent=True,\n",
    "    options=deployment_options\n",
    ")"
   ]
  },
  {
   "cell_type": "markdown",
   "id": "4a80b8bb-2191-4342-acc4-f44f817271c3",
   "metadata": {},
   "source": [
    "## Prediction"
   ]
  },
  {
   "cell_type": "code",
   "execution_count": 20,
   "id": "9475d6cd-5222-4bcb-9883-9d8924354d6a",
   "metadata": {},
   "outputs": [],
   "source": [
    "PROMPT_TEMPLATE = \"\"\"\n",
    "\n",
    "[INST] <<SYS>>\n",
    "Below is an instruction that describes a task, paired with an input that provides further context. Write a response that appropriately completes the request.\n",
    "<</SYS>>\n",
    "### Instruction:\n",
    "Extract JSON response with 'location' and 'toy_list' as keys. Start response by \"{\".\n",
    "'location': Location of the caller. Include city only.\n",
    "'toy_list\": List of toy names from the caller.\n",
    "\n",
    "### Input:\n",
    "\"\"\"\n",
    "\n",
    "def build_prompt(input):\n",
    "    return PROMPT_TEMPLATE + input + \"\\n[/INST]\""
   ]
  },
  {
   "cell_type": "code",
   "execution_count": 21,
   "id": "d067a009-567d-4869-9e8a-44694e169cc0",
   "metadata": {},
   "outputs": [],
   "source": [
    "df = pd.read_json('/home/ubuntu/projects/v8.jsonl', lines=True)"
   ]
  },
  {
   "cell_type": "code",
   "execution_count": 27,
   "id": "8ca2e858-fa83-44d9-aca5-8a64ccc78975",
   "metadata": {},
   "outputs": [
    {
     "data": {
      "text/plain": [
       "{'language': 'EN',\n",
       " 'transcript': \"caller: Hello!\\nfrosty: Well, hello! Who's spreading holiday cheer with me today?\\ncaller: I'm Max from Sydney.\\nfrosty: Hello, Max! Can you tell me what's on your wish list this holiday?\\ncaller: Hmm, I am not sure. I guess I like cars.\\nfrosty: We have a fun Bluey car. It's very cool. And also, there's a Teenage Mutant Ninja Turtles pizza delivery van! It's really fun.\\ncaller: Oh, the bluey car sounds cool.\\nfrosty: Great choice, Max! By the way, how do you plan to celebrate the holiday season with your family?\\ncaller: We're going to the beach! It's summer here in Sydney.\\nfrosty: Oh, that sounds wonderful, Max. So, we will put the Bluey car on your holiday wish list, okay?\\ncaller: Yes, please!\\nfrosty: It’s all done. I hope your holiday is filled with joy and fun!\",\n",
       " 'name': 'Max',\n",
       " 'location': 'Sydney',\n",
       " 'toy_list': ['Bluey Convertible and Figures']}"
      ]
     },
     "execution_count": 27,
     "metadata": {},
     "output_type": "execute_result"
    }
   ],
   "source": [
    "df.iloc[0].to_dict()"
   ]
  },
  {
   "cell_type": "code",
   "execution_count": 28,
   "id": "fdbfa6ef-e179-44e1-898b-8c103cf09d4d",
   "metadata": {},
   "outputs": [],
   "source": [
    "dfl = df['transcript'].to_list()[:10]"
   ]
  },
  {
   "cell_type": "code",
   "execution_count": 29,
   "id": "c484ec44-672d-4269-830b-42ec037cef13",
   "metadata": {},
   "outputs": [],
   "source": [
    "prompts = [build_prompt(t) for t in dfl]"
   ]
  },
  {
   "cell_type": "code",
   "execution_count": 30,
   "id": "e8377d97-a70d-4709-b1c7-ea638634a557",
   "metadata": {},
   "outputs": [],
   "source": [
    "input_df = pd.DataFrame({'input': prompts})"
   ]
  },
  {
   "cell_type": "code",
   "execution_count": 40,
   "id": "3477c070-f067-471e-83b1-302dfec392b9",
   "metadata": {},
   "outputs": [],
   "source": [
    "res = svc_model.predict(\n",
    "    deployment_name='llm_notebook_ft_1',\n",
    "    data=input_df\n",
    ")"
   ]
  },
  {
   "cell_type": "code",
   "execution_count": 42,
   "id": "f32e6498",
   "metadata": {},
   "outputs": [],
   "source": [
    "pd.set_option('display.max_colwidth', None)"
   ]
  },
  {
   "cell_type": "code",
   "execution_count": 43,
   "id": "a467afb6",
   "metadata": {},
   "outputs": [
    {
     "data": {
      "text/html": [
       "<div>\n",
       "<style scoped>\n",
       "    .dataframe tbody tr th:only-of-type {\n",
       "        vertical-align: middle;\n",
       "    }\n",
       "\n",
       "    .dataframe tbody tr th {\n",
       "        vertical-align: top;\n",
       "    }\n",
       "\n",
       "    .dataframe thead th {\n",
       "        text-align: right;\n",
       "    }\n",
       "</style>\n",
       "<table border=\"1\" class=\"dataframe\">\n",
       "  <thead>\n",
       "    <tr style=\"text-align: right;\">\n",
       "      <th></th>\n",
       "      <th>generated_text</th>\n",
       "    </tr>\n",
       "  </thead>\n",
       "  <tbody>\n",
       "    <tr>\n",
       "      <th>0</th>\n",
       "      <td>{\"toy_list\": [\"Bluey Convertible and Figures\", \"Teenage Mutant Ninja Turtles: Mutant Mayhem Pizza Fire Delivery Van\"], \"location\": \"Sydney\"}</td>\n",
       "    </tr>\n",
       "    <tr>\n",
       "      <th>1</th>\n",
       "      <td>{\"toy_list\": [\"Furby interactive plush toy\", \"Transformers Rise of the Beasts Beast-Mode Bumblebee\"], \"location\": \"London\"}</td>\n",
       "    </tr>\n",
       "    <tr>\n",
       "      <th>2</th>\n",
       "      <td>{\"toy_list\": [\"Teenage Mutant Ninja Turtles: Mutant Mayhem Pizza Fire Delivery Van\"], \"location\": \"Auckland\"}</td>\n",
       "    </tr>\n",
       "    <tr>\n",
       "      <th>3</th>\n",
       "      <td>{\"toy_list\": [\"Transformers Rise of the Beasts Beast-Mode Bumblebee\"], \"location\": \"Denver\"}</td>\n",
       "    </tr>\n",
       "    <tr>\n",
       "      <th>4</th>\n",
       "      <td>{\"toy_list\": [\"Fingerlings\", \"Barbie Dreamhouse 2023\"], \"location\": \"Sydney\"}</td>\n",
       "    </tr>\n",
       "    <tr>\n",
       "      <th>5</th>\n",
       "      <td>{\"toy_list\": [\"Barbie Science Lab Playset\", \"Furby interactive plush toy\"], \"location\": \"Houston, Texas\"}</td>\n",
       "    </tr>\n",
       "    <tr>\n",
       "      <th>6</th>\n",
       "      <td>{\"toy_list\": [\"Star Wars LOLA animatronic droid\", \"Bluey Convertible and Figures\"], \"location\": \"Sydney\"}</td>\n",
       "    </tr>\n",
       "    <tr>\n",
       "      <th>7</th>\n",
       "      <td>{\"toy_list\": [\"Teenage Mutant Ninja Turtles: Mutant Mayhem Pizza Fire Delivery Van\", \"Bitzee interactive pet\"], \"location\": \"Dublin\"}</td>\n",
       "    </tr>\n",
       "    <tr>\n",
       "      <th>8</th>\n",
       "      <td>{\"toy_list\": [\"Barbie Science Lab Playset\"], \"location\": \"Melbourne, Australia\"}</td>\n",
       "    </tr>\n",
       "    <tr>\n",
       "      <th>9</th>\n",
       "      <td>{\"toy_list\": [\"Sesame Street Monster Meditation Elmo\"], \"location\": \"Toronto\"}</td>\n",
       "    </tr>\n",
       "  </tbody>\n",
       "</table>\n",
       "</div>"
      ],
      "text/plain": [
       "                                                                                                                                  generated_text\n",
       "0   {\"toy_list\": [\"Bluey Convertible and Figures\", \"Teenage Mutant Ninja Turtles: Mutant Mayhem Pizza Fire Delivery Van\"], \"location\": \"Sydney\"}\n",
       "1                    {\"toy_list\": [\"Furby interactive plush toy\", \"Transformers Rise of the Beasts Beast-Mode Bumblebee\"], \"location\": \"London\"}\n",
       "2                                  {\"toy_list\": [\"Teenage Mutant Ninja Turtles: Mutant Mayhem Pizza Fire Delivery Van\"], \"location\": \"Auckland\"}\n",
       "3                                                   {\"toy_list\": [\"Transformers Rise of the Beasts Beast-Mode Bumblebee\"], \"location\": \"Denver\"}\n",
       "4                                                                  {\"toy_list\": [\"Fingerlings\", \"Barbie Dreamhouse 2023\"], \"location\": \"Sydney\"}\n",
       "5                                      {\"toy_list\": [\"Barbie Science Lab Playset\", \"Furby interactive plush toy\"], \"location\": \"Houston, Texas\"}\n",
       "6                                      {\"toy_list\": [\"Star Wars LOLA animatronic droid\", \"Bluey Convertible and Figures\"], \"location\": \"Sydney\"}\n",
       "7          {\"toy_list\": [\"Teenage Mutant Ninja Turtles: Mutant Mayhem Pizza Fire Delivery Van\", \"Bitzee interactive pet\"], \"location\": \"Dublin\"}\n",
       "8                                                               {\"toy_list\": [\"Barbie Science Lab Playset\"], \"location\": \"Melbourne, Australia\"}\n",
       "9                                                                 {\"toy_list\": [\"Sesame Street Monster Meditation Elmo\"], \"location\": \"Toronto\"}"
      ]
     },
     "execution_count": 43,
     "metadata": {},
     "output_type": "execute_result"
    }
   ],
   "source": [
    "res"
   ]
  },
  {
   "cell_type": "code",
   "execution_count": 44,
   "id": "dcb3b9b1-16a2-4ed8-9f81-399660f2f530",
   "metadata": {},
   "outputs": [],
   "source": [
    "svc_model.delete_deployment(deployment_name='llm_notebook_ft_1')"
   ]
  }
 ],
 "metadata": {
  "kernelspec": {
   "display_name": "Python 3 (ipykernel)",
   "language": "python",
   "name": "python3"
  },
  "language_info": {
   "codemirror_mode": {
    "name": "ipython",
    "version": 3
   },
   "file_extension": ".py",
   "mimetype": "text/x-python",
   "name": "python",
   "nbconvert_exporter": "python",
   "pygments_lexer": "ipython3",
   "version": "3.10.11"
  }
 },
 "nbformat": 4,
 "nbformat_minor": 5
}
